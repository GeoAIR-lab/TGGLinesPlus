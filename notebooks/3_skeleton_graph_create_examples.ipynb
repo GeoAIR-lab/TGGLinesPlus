{
 "cells": [
  {
   "cell_type": "code",
   "execution_count": 1,
   "id": "44e35a30",
   "metadata": {},
   "outputs": [],
   "source": [
    "import csv\n",
    "import os\n",
    "import time\n",
    "import timeit\n",
    "\n",
    "import numpy as np\n",
    "\n",
    "from skimage.filters import threshold_mean\n",
    "from skimage.morphology import skeletonize\n",
    "from skimage import graph as skgraph\n",
    "\n",
    "import networkx as nx\n",
    "\n",
    "import matplotlib.pyplot as plt\n",
    "from matplotlib.pyplot import cm\n",
    "from matplotlib import colors\n",
    "from matplotlib.patches import Patch\n",
    "from matplotlib.lines import Line2D\n",
    "%matplotlib inline\n",
    "\n",
    "from utils.plotting import *\n",
    "from utils.process import *"
   ]
  },
  {
   "cell_type": "markdown",
   "id": "428ec95b",
   "metadata": {},
   "source": [
    "# Intro\n",
    "\n",
    "## Read in MNIST data"
   ]
  },
  {
   "cell_type": "code",
   "execution_count": 2,
   "id": "2507c33e",
   "metadata": {},
   "outputs": [],
   "source": [
    "mnist_filename = '../data/mnist/mnist_test.csv'\n",
    "mnist_images_raw, mnist_labels = read_in_mnist(mnist_filename)\n"
   ]
  },
  {
   "cell_type": "code",
   "execution_count": 3,
   "id": "e90822b4",
   "metadata": {},
   "outputs": [
    {
     "name": "stdout",
     "output_type": "stream",
     "text": [
      "10000\n",
      "10000\n"
     ]
    }
   ],
   "source": [
    "print(len(mnist_images_raw))\n",
    "print(len(mnist_labels))\n"
   ]
  },
  {
   "cell_type": "markdown",
   "id": "e8dbf385",
   "metadata": {},
   "source": [
    "## A full processing pipeline"
   ]
  },
  {
   "cell_type": "code",
   "execution_count": 4,
   "id": "54a86ca0",
   "metadata": {},
   "outputs": [
    {
     "name": "stdout",
     "output_type": "stream",
     "text": [
      "Time to run for: 38.67575s\n"
     ]
    }
   ],
   "source": [
    "start = timeit.default_timer()\n",
    "#start = time.process_time()\n",
    "\n",
    "result_dict_list = [TGGLinesPlus(img) for img in mnist_images_raw]\n",
    "\n",
    "stop = timeit.default_timer()\n",
    "#stop = time.process_time()\n",
    "\n",
    "print(f\"Time to run for: {(stop - start):.5f}s\")  \n"
   ]
  },
  {
   "cell_type": "markdown",
   "id": "9a2e4a21",
   "metadata": {},
   "source": [
    "So the entire MNIST dataset takes about `~37-38s` to run."
   ]
  },
  {
   "cell_type": "markdown",
   "id": "3913786b",
   "metadata": {},
   "source": [
    "##  Saving figures by digit/character"
   ]
  },
  {
   "cell_type": "code",
   "execution_count": 5,
   "id": "c561b06e",
   "metadata": {},
   "outputs": [],
   "source": [
    "# find the indices of where the dataset is 0-9\n",
    "idx_list0 = list(np.where(np.array(mnist_labels) == 0)[0])\n",
    "idx_list1 = list(np.where(np.array(mnist_labels) == 1)[0])\n",
    "idx_list2 = list(np.where(np.array(mnist_labels) == 2)[0])\n",
    "idx_list3 = list(np.where(np.array(mnist_labels) == 3)[0])\n",
    "idx_list4 = list(np.where(np.array(mnist_labels) == 4)[0])\n",
    "idx_list5 = list(np.where(np.array(mnist_labels) == 5)[0])\n",
    "idx_list6 = list(np.where(np.array(mnist_labels) == 6)[0])\n",
    "idx_list7 = list(np.where(np.array(mnist_labels) == 7)[0])\n",
    "idx_list8 = list(np.where(np.array(mnist_labels) == 8)[0])\n",
    "idx_list9 = list(np.where(np.array(mnist_labels) == 9)[0])\n"
   ]
  },
  {
   "cell_type": "code",
   "execution_count": 6,
   "id": "7f836ae8",
   "metadata": {},
   "outputs": [],
   "source": [
    "# extract a list of each digit (0-9)\n",
    "mnist0 = [mnist_images_raw[idx] for idx in idx_list0]\n",
    "mnist1 = [mnist_images_raw[idx] for idx in idx_list1]\n",
    "mnist2 = [mnist_images_raw[idx] for idx in idx_list2]\n",
    "mnist3 = [mnist_images_raw[idx] for idx in idx_list3]\n",
    "mnist4 = [mnist_images_raw[idx] for idx in idx_list4]\n",
    "mnist5 = [mnist_images_raw[idx] for idx in idx_list5]\n",
    "mnist6 = [mnist_images_raw[idx] for idx in idx_list6]\n",
    "mnist7 = [mnist_images_raw[idx] for idx in idx_list7]\n",
    "mnist8 = [mnist_images_raw[idx] for idx in idx_list8]\n",
    "mnist9 = [mnist_images_raw[idx] for idx in idx_list9]\n"
   ]
  },
  {
   "cell_type": "code",
   "execution_count": 7,
   "id": "021c71f0",
   "metadata": {},
   "outputs": [],
   "source": [
    "# process each list of digits separately, so we can save them to their own folder\n",
    "result_dict_list0 = [TGGLinesPlus(img) for img in mnist0]\n",
    "result_dict_list1 = [TGGLinesPlus(img) for img in mnist1]\n",
    "result_dict_list2 = [TGGLinesPlus(img) for img in mnist2]\n",
    "result_dict_list3 = [TGGLinesPlus(img) for img in mnist3]\n",
    "result_dict_list4 = [TGGLinesPlus(img) for img in mnist4]\n",
    "result_dict_list5 = [TGGLinesPlus(img) for img in mnist5]\n",
    "result_dict_list6 = [TGGLinesPlus(img) for img in mnist6]\n",
    "result_dict_list7 = [TGGLinesPlus(img) for img in mnist7]\n",
    "result_dict_list8 = [TGGLinesPlus(img) for img in mnist8]\n",
    "result_dict_list9 = [TGGLinesPlus(img) for img in mnist9]\n"
   ]
  },
  {
   "cell_type": "code",
   "execution_count": 8,
   "id": "1c621a25",
   "metadata": {},
   "outputs": [],
   "source": [
    "# save the digits\n",
    "# you will need to change the following 4 lines to process lists of individual digits\n",
    "index_list = idx_list0\n",
    "plot_list = result_dict_list0\n",
    "save_dir = \"./mnist_junctions0/\"\n",
    "label = \"0\"\n",
    "\n",
    "# for idx, result_dict in enumerate(plot_list):\n",
    "#     unique_cliques = find_unique_cliques(result_dict)\n",
    "#     if(len(unique_cliques) == 0):\n",
    "#         continue\n",
    "#         #print(\"Example digit {} at index {} does not have any junctions.\".format(label, idx))\n",
    "#     else:\n",
    "#         plot_junction_types(result_dict, unique_cliques, label, index_list[idx], save_fig=True, save_dir=save_dir)\n"
   ]
  },
  {
   "cell_type": "code",
   "execution_count": null,
   "id": "a0a2988a",
   "metadata": {},
   "outputs": [],
   "source": []
  }
 ],
 "metadata": {
  "kernelspec": {
   "display_name": "Python 3 (ipykernel)",
   "language": "python",
   "name": "python3"
  },
  "language_info": {
   "codemirror_mode": {
    "name": "ipython",
    "version": 3
   },
   "file_extension": ".py",
   "mimetype": "text/x-python",
   "name": "python",
   "nbconvert_exporter": "python",
   "pygments_lexer": "ipython3",
   "version": "3.9.13"
  }
 },
 "nbformat": 4,
 "nbformat_minor": 5
}
